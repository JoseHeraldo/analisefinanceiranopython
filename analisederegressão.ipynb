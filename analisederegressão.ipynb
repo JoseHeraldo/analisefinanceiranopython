{
 "cells": [
  {
   "cell_type": "markdown",
   "metadata": {},
   "source": [
    "### Agora vamos iniciar a analise de regressão\n",
    "Vamos fazer uma regrassão simples do banco de dados disponivel no curso. \n",
    "Primeiro baixar os dados diretamente do GitHub\n",
    "\n"
   ]
  },
  {
   "cell_type": "code",
   "execution_count": 1,
   "metadata": {},
   "outputs": [
    {
     "name": "stdout",
     "output_type": "stream",
     "text": [
      "   House Price  House Size (sq.ft.) State  Number of Rooms  \\\n",
      "0      1116000                 1940    IN                8   \n",
      "1       860000                 1300    IN                5   \n",
      "2       818400                 1420    IN                6   \n",
      "3      1000000                 1680    IN                7   \n",
      "4       640000                 1270    IN                5   \n",
      "\n",
      "   Year of Construction  \n",
      "0                  2002  \n",
      "1                  1992  \n",
      "2                  1987  \n",
      "3                  2000  \n",
      "4                  1995  \n",
      "<class 'pandas.core.frame.DataFrame'>\n",
      "RangeIndex: 20 entries, 0 to 19\n",
      "Data columns (total 5 columns):\n",
      " #   Column                Non-Null Count  Dtype \n",
      "---  ------                --------------  ----- \n",
      " 0   House Price           20 non-null     int64 \n",
      " 1   House Size (sq.ft.)   20 non-null     int64 \n",
      " 2   State                 20 non-null     object\n",
      " 3   Number of Rooms       20 non-null     int64 \n",
      " 4   Year of Construction  20 non-null     int64 \n",
      "dtypes: int64(4), object(1)\n",
      "memory usage: 928.0+ bytes\n",
      "None\n"
     ]
    }
   ],
   "source": [
    "import pandas as pd\n",
    "\n",
    "# Link direto para o arquivo\n",
    "housing_url = \"https://raw.githubusercontent.com/JoseHeraldo/analisefinanceira/main/Housing.xlsx\"\n",
    "\n",
    "# Ler o arquivo Excel diretamente\n",
    "df = pd.read_excel(housing_url)\n",
    "\n",
    "\n",
    "# Mostrar as primeiras linhas\n",
    "print(df.head())\n",
    "\n",
    "# Informações gerais\n",
    "print(df.info())"
   ]
  },
  {
   "cell_type": "markdown",
   "metadata": {},
   "source": [
    "Tambem se pode salvar o arquivo em excel numa pasta. No exemplo abaixo.\n",
    "E depois voce  pode salvar o mesmo em um novo df. "
   ]
  },
  {
   "cell_type": "code",
   "execution_count": 2,
   "metadata": {},
   "outputs": [
    {
     "name": "stdout",
     "output_type": "stream",
     "text": [
      "Arquivo baixado e salvo como 'Housing.xlsx'\n"
     ]
    }
   ],
   "source": [
    "import requests\n",
    "\n",
    "# Link direto para o arquivo\n",
    "housing_url = \"https://raw.githubusercontent.com/JoseHeraldo/analisefinanceira/main/Housing.xlsx\"\n",
    "\n",
    "# Fazer o download do arquivo\n",
    "response = requests.get(housing_url)\n",
    "with open(\"Housing.xlsx\", \"wb\") as file:\n",
    "    file.write(response.content)\n",
    "\n",
    "print(\"Arquivo baixado e salvo como 'Housing.xlsx'\")\n"
   ]
  },
  {
   "cell_type": "markdown",
   "metadata": {},
   "source": [
    "Arquivo baixado e salvo como 'Housing.xlsx'"
   ]
  },
  {
   "cell_type": "markdown",
   "metadata": {},
   "source": [
    "### Agora vamos as analises de regressão. "
   ]
  },
  {
   "cell_type": "code",
   "execution_count": 3,
   "metadata": {},
   "outputs": [
    {
     "data": {
      "text/html": [
       "<div>\n",
       "<style scoped>\n",
       "    .dataframe tbody tr th:only-of-type {\n",
       "        vertical-align: middle;\n",
       "    }\n",
       "\n",
       "    .dataframe tbody tr th {\n",
       "        vertical-align: top;\n",
       "    }\n",
       "\n",
       "    .dataframe thead th {\n",
       "        text-align: right;\n",
       "    }\n",
       "</style>\n",
       "<table border=\"1\" class=\"dataframe\">\n",
       "  <thead>\n",
       "    <tr style=\"text-align: right;\">\n",
       "      <th></th>\n",
       "      <th>House Price</th>\n",
       "      <th>House Size (sq.ft.)</th>\n",
       "      <th>State</th>\n",
       "      <th>Number of Rooms</th>\n",
       "      <th>Year of Construction</th>\n",
       "    </tr>\n",
       "  </thead>\n",
       "  <tbody>\n",
       "    <tr>\n",
       "      <th>0</th>\n",
       "      <td>1116000</td>\n",
       "      <td>1940</td>\n",
       "      <td>IN</td>\n",
       "      <td>8</td>\n",
       "      <td>2002</td>\n",
       "    </tr>\n",
       "    <tr>\n",
       "      <th>1</th>\n",
       "      <td>860000</td>\n",
       "      <td>1300</td>\n",
       "      <td>IN</td>\n",
       "      <td>5</td>\n",
       "      <td>1992</td>\n",
       "    </tr>\n",
       "    <tr>\n",
       "      <th>2</th>\n",
       "      <td>818400</td>\n",
       "      <td>1420</td>\n",
       "      <td>IN</td>\n",
       "      <td>6</td>\n",
       "      <td>1987</td>\n",
       "    </tr>\n",
       "    <tr>\n",
       "      <th>3</th>\n",
       "      <td>1000000</td>\n",
       "      <td>1680</td>\n",
       "      <td>IN</td>\n",
       "      <td>7</td>\n",
       "      <td>2000</td>\n",
       "    </tr>\n",
       "    <tr>\n",
       "      <th>4</th>\n",
       "      <td>640000</td>\n",
       "      <td>1270</td>\n",
       "      <td>IN</td>\n",
       "      <td>5</td>\n",
       "      <td>1995</td>\n",
       "    </tr>\n",
       "    <tr>\n",
       "      <th>5</th>\n",
       "      <td>1010000</td>\n",
       "      <td>1850</td>\n",
       "      <td>IN</td>\n",
       "      <td>7</td>\n",
       "      <td>1998</td>\n",
       "    </tr>\n",
       "    <tr>\n",
       "      <th>6</th>\n",
       "      <td>600000</td>\n",
       "      <td>1000</td>\n",
       "      <td>IN</td>\n",
       "      <td>4</td>\n",
       "      <td>2015</td>\n",
       "    </tr>\n",
       "    <tr>\n",
       "      <th>7</th>\n",
       "      <td>700000</td>\n",
       "      <td>1100</td>\n",
       "      <td>LA</td>\n",
       "      <td>4</td>\n",
       "      <td>2014</td>\n",
       "    </tr>\n",
       "    <tr>\n",
       "      <th>8</th>\n",
       "      <td>1100000</td>\n",
       "      <td>1600</td>\n",
       "      <td>LA</td>\n",
       "      <td>7</td>\n",
       "      <td>2017</td>\n",
       "    </tr>\n",
       "    <tr>\n",
       "      <th>9</th>\n",
       "      <td>570000</td>\n",
       "      <td>1000</td>\n",
       "      <td>NY</td>\n",
       "      <td>5</td>\n",
       "      <td>1997</td>\n",
       "    </tr>\n",
       "    <tr>\n",
       "      <th>10</th>\n",
       "      <td>860000</td>\n",
       "      <td>2150</td>\n",
       "      <td>NY</td>\n",
       "      <td>9</td>\n",
       "      <td>1997</td>\n",
       "    </tr>\n",
       "    <tr>\n",
       "      <th>11</th>\n",
       "      <td>1085000</td>\n",
       "      <td>1900</td>\n",
       "      <td>NY</td>\n",
       "      <td>9</td>\n",
       "      <td>2000</td>\n",
       "    </tr>\n",
       "    <tr>\n",
       "      <th>12</th>\n",
       "      <td>1250000</td>\n",
       "      <td>2200</td>\n",
       "      <td>NY</td>\n",
       "      <td>9</td>\n",
       "      <td>2014</td>\n",
       "    </tr>\n",
       "    <tr>\n",
       "      <th>13</th>\n",
       "      <td>850000</td>\n",
       "      <td>1100</td>\n",
       "      <td>TX</td>\n",
       "      <td>4</td>\n",
       "      <td>2017</td>\n",
       "    </tr>\n",
       "    <tr>\n",
       "      <th>14</th>\n",
       "      <td>640000</td>\n",
       "      <td>860</td>\n",
       "      <td>TX</td>\n",
       "      <td>4</td>\n",
       "      <td>1997</td>\n",
       "    </tr>\n",
       "    <tr>\n",
       "      <th>15</th>\n",
       "      <td>900000</td>\n",
       "      <td>1325</td>\n",
       "      <td>TX</td>\n",
       "      <td>6</td>\n",
       "      <td>1997</td>\n",
       "    </tr>\n",
       "    <tr>\n",
       "      <th>16</th>\n",
       "      <td>730000</td>\n",
       "      <td>1350</td>\n",
       "      <td>TX</td>\n",
       "      <td>6</td>\n",
       "      <td>2000</td>\n",
       "    </tr>\n",
       "    <tr>\n",
       "      <th>17</th>\n",
       "      <td>750000</td>\n",
       "      <td>1600</td>\n",
       "      <td>TX</td>\n",
       "      <td>6</td>\n",
       "      <td>1992</td>\n",
       "    </tr>\n",
       "    <tr>\n",
       "      <th>18</th>\n",
       "      <td>650000</td>\n",
       "      <td>950</td>\n",
       "      <td>TX</td>\n",
       "      <td>2</td>\n",
       "      <td>1987</td>\n",
       "    </tr>\n",
       "    <tr>\n",
       "      <th>19</th>\n",
       "      <td>680000</td>\n",
       "      <td>1250</td>\n",
       "      <td>TX</td>\n",
       "      <td>4</td>\n",
       "      <td>2000</td>\n",
       "    </tr>\n",
       "  </tbody>\n",
       "</table>\n",
       "</div>"
      ],
      "text/plain": [
       "    House Price  House Size (sq.ft.) State  Number of Rooms  \\\n",
       "0       1116000                 1940    IN                8   \n",
       "1        860000                 1300    IN                5   \n",
       "2        818400                 1420    IN                6   \n",
       "3       1000000                 1680    IN                7   \n",
       "4        640000                 1270    IN                5   \n",
       "5       1010000                 1850    IN                7   \n",
       "6        600000                 1000    IN                4   \n",
       "7        700000                 1100   LA                 4   \n",
       "8       1100000                 1600   LA                 7   \n",
       "9        570000                 1000    NY                5   \n",
       "10       860000                 2150    NY                9   \n",
       "11      1085000                 1900    NY                9   \n",
       "12      1250000                 2200    NY                9   \n",
       "13       850000                 1100    TX                4   \n",
       "14       640000                  860    TX                4   \n",
       "15       900000                 1325    TX                6   \n",
       "16       730000                 1350    TX                6   \n",
       "17       750000                 1600    TX                6   \n",
       "18       650000                  950    TX                2   \n",
       "19       680000                 1250    TX                4   \n",
       "\n",
       "    Year of Construction  \n",
       "0                   2002  \n",
       "1                   1992  \n",
       "2                   1987  \n",
       "3                   2000  \n",
       "4                   1995  \n",
       "5                   1998  \n",
       "6                   2015  \n",
       "7                   2014  \n",
       "8                   2017  \n",
       "9                   1997  \n",
       "10                  1997  \n",
       "11                  2000  \n",
       "12                  2014  \n",
       "13                  2017  \n",
       "14                  1997  \n",
       "15                  1997  \n",
       "16                  2000  \n",
       "17                  1992  \n",
       "18                  1987  \n",
       "19                  2000  "
      ]
     },
     "execution_count": 3,
     "metadata": {},
     "output_type": "execute_result"
    }
   ],
   "source": [
    "df"
   ]
  },
  {
   "cell_type": "markdown",
   "metadata": {},
   "source": [
    "Para facilitar a regressão vamos trabalhar apenas com duas colunas. House Price e House Size"
   ]
  },
  {
   "cell_type": "code",
   "execution_count": 4,
   "metadata": {},
   "outputs": [
    {
     "name": "stdout",
     "output_type": "stream",
     "text": [
      "Index(['House Price', 'House Size (sq.ft.)', 'State', 'Number of Rooms',\n",
      "       'Year of Construction'],\n",
      "      dtype='object')\n"
     ]
    }
   ],
   "source": [
    "print(df.columns)"
   ]
  },
  {
   "cell_type": "code",
   "execution_count": 5,
   "metadata": {},
   "outputs": [
    {
     "name": "stdout",
     "output_type": "stream",
     "text": [
      "   House Price  House Size (sq.ft.)\n",
      "0      1116000                 1940\n",
      "1       860000                 1300\n",
      "2       818400                 1420\n",
      "3      1000000                 1680\n",
      "4       640000                 1270\n"
     ]
    }
   ],
   "source": [
    "selected_columns = df[['House Price', 'House Size (sq.ft.)']]\n",
    "print(selected_columns.head())"
   ]
  },
  {
   "cell_type": "markdown",
   "metadata": {},
   "source": [
    "Agora elaborar a equação. De uma forma bem explicativa"
   ]
  },
  {
   "cell_type": "code",
   "execution_count": 7,
   "metadata": {},
   "outputs": [],
   "source": [
    "x = selected_columns['House Size (sq.ft.)']\n",
    "y = selected_columns['House Price']"
   ]
  },
  {
   "cell_type": "code",
   "execution_count": 8,
   "metadata": {},
   "outputs": [
    {
     "data": {
      "text/plain": [
       "0     1940\n",
       "1     1300\n",
       "2     1420\n",
       "3     1680\n",
       "4     1270\n",
       "5     1850\n",
       "6     1000\n",
       "7     1100\n",
       "8     1600\n",
       "9     1000\n",
       "10    2150\n",
       "11    1900\n",
       "12    2200\n",
       "13    1100\n",
       "14     860\n",
       "15    1325\n",
       "16    1350\n",
       "17    1600\n",
       "18     950\n",
       "19    1250\n",
       "Name: House Size (sq.ft.), dtype: int64"
      ]
     },
     "execution_count": 8,
     "metadata": {},
     "output_type": "execute_result"
    }
   ],
   "source": [
    "x"
   ]
  },
  {
   "cell_type": "code",
   "execution_count": 9,
   "metadata": {},
   "outputs": [
    {
     "data": {
      "text/plain": [
       "0     1116000\n",
       "1      860000\n",
       "2      818400\n",
       "3     1000000\n",
       "4      640000\n",
       "5     1010000\n",
       "6      600000\n",
       "7      700000\n",
       "8     1100000\n",
       "9      570000\n",
       "10     860000\n",
       "11    1085000\n",
       "12    1250000\n",
       "13     850000\n",
       "14     640000\n",
       "15     900000\n",
       "16     730000\n",
       "17     750000\n",
       "18     650000\n",
       "19     680000\n",
       "Name: House Price, dtype: int64"
      ]
     },
     "execution_count": 9,
     "metadata": {},
     "output_type": "execute_result"
    }
   ],
   "source": [
    "y"
   ]
  },
  {
   "cell_type": "markdown",
   "metadata": {},
   "source": [
    "Definidos quem sao X e Y. \n",
    "Vamos analisar o grafico de dispersão"
   ]
  },
  {
   "cell_type": "code",
   "execution_count": 10,
   "metadata": {},
   "outputs": [
    {
     "data": {
      "image/png": "[encoded data removed]",
      "text/plain": [
       "<Figure size 640x480 with 1 Axes>"
      ]
     },
     "metadata": {},
     "output_type": "display_data"
    }
   ],
   "source": [
    "import matplotlib.pyplot as plt\n",
    "\n",
    "plt.scatter(x,y)\n",
    "plt.show()\n"
   ]
  },
  {
   "cell_type": "markdown",
   "metadata": {},
   "source": [
    "Podemos mellhorar o ajustamento do grafico"
   ]
  },
  {
   "cell_type": "code",
   "execution_count": 11,
   "metadata": {},
   "outputs": [
    {
     "data": {
      "image/png": "[encoded data removed]",
      "text/plain": [
       "<Figure size 640x480 with 1 Axes>"
      ]
     },
     "metadata": {},
     "output_type": "display_data"
    }
   ],
   "source": [
    "plt.scatter(x,y)\n",
    "plt.axis([0,2500,0,1500000])\n",
    "plt.show()"
   ]
  },
  {
   "cell_type": "markdown",
   "metadata": {},
   "source": [
    "Melhorando ainda mais o grafico, e deixando de forma profissional, ou seja, demonstrando a relação entre o tamanho de uma casa e seu preço. "
   ]
  },
  {
   "cell_type": "code",
   "execution_count": 12,
   "metadata": {},
   "outputs": [
    {
     "data": {
      "image/png": "[encoded data removed]",
      "text/plain": [
       "<Figure size 640x480 with 1 Axes>"
      ]
     },
     "metadata": {},
     "output_type": "display_data"
    }
   ],
   "source": [
    "plt.scatter(x,y)\n",
    "plt.axis([0,2500,0,1500000])\n",
    "plt.ylabel('House Price')\n",
    "plt.xlabel('House Size (sq.ft)')\n",
    "plt.show()"
   ]
  },
  {
   "cell_type": "markdown",
   "metadata": {},
   "source": [
    "### Calculando o alfa, beta e o R quadrado"
   ]
  },
  {
   "cell_type": "code",
   "execution_count": 13,
   "metadata": {},
   "outputs": [
    {
     "name": "stdout",
     "output_type": "stream",
     "text": [
      "                            OLS Regression Results                            \n",
      "==============================================================================\n",
      "Dep. Variable:            House Price   R-squared:                       0.678\n",
      "Model:                            OLS   Adj. R-squared:                  0.660\n",
      "Method:                 Least Squares   F-statistic:                     37.95\n",
      "Date:                Thu, 02 Jan 2025   Prob (F-statistic):           8.13e-06\n",
      "Time:                        21:19:30   Log-Likelihood:                -260.43\n",
      "No. Observations:                  20   AIC:                             524.9\n",
      "Df Residuals:                      18   BIC:                             526.8\n",
      "Df Model:                           1                                         \n",
      "Covariance Type:            nonrobust                                         \n",
      "=======================================================================================\n",
      "                          coef    std err          t      P>|t|      [0.025      0.975]\n",
      "---------------------------------------------------------------------------------------\n",
      "const                2.608e+05   9.76e+04      2.673      0.016    5.58e+04    4.66e+05\n",
      "House Size (sq.ft.)   401.9163     65.243      6.160      0.000     264.846     538.987\n",
      "==============================================================================\n",
      "Omnibus:                        1.238   Durbin-Watson:                   1.810\n",
      "Prob(Omnibus):                  0.538   Jarque-Bera (JB):                0.715\n",
      "Skew:                          -0.459   Prob(JB):                        0.699\n",
      "Kurtosis:                       2.884   Cond. No.                     5.66e+03\n",
      "==============================================================================\n",
      "\n",
      "Notes:\n",
      "[1] Standard Errors assume that the covariance matrix of the errors is correctly specified.\n",
      "[2] The condition number is large, 5.66e+03. This might indicate that there are\n",
      "strong multicollinearity or other numerical problems.\n"
     ]
    }
   ],
   "source": [
    "import statsmodels.api as sm\n",
    "\n",
    "# Supondo que X e y sejam definidos corretamente\n",
    "X1 = sm.add_constant(x)  # Adiciona uma constante (intercepto) ao modelo\n",
    "reg = sm.OLS(y, X1).fit()  # Ajusta o modelo de regressão\n",
    "print(reg.summary())"
   ]
  },
  {
   "cell_type": "code",
   "execution_count": 14,
   "metadata": {},
   "outputs": [
    {
     "name": "stdout",
     "output_type": "stream",
     "text": [
      "Slope: 401.91628631922595\n",
      "Intercept: 260806.2360560964\n",
      "R-squared: 0.678279986579124\n",
      "Standard Error: 65.24299510636492\n"
     ]
    }
   ],
   "source": [
    "from scipy.stats import linregress\n",
    "\n",
    "# Supondo que x e y já estão definidos corretamente\n",
    "slope, intercept, r_value, p_value, std_err = linregress(x, y)\n",
    "\n",
    "# Exibindo os resultados\n",
    "print(f\"Slope: {slope}\")\n",
    "print(f\"Intercept: {intercept}\")\n",
    "print(f\"R-squared: {r_value**2}\")\n",
    "print(f\"Standard Error: {std_err}\")"
   ]
  },
  {
   "cell_type": "markdown",
   "metadata": {},
   "source": [
    "## Agora vamos iniciar uma regressão multicariada. "
   ]
  },
  {
   "cell_type": "markdown",
   "metadata": {},
   "source": [
    "Iremos usar a mesma base de dados da Holsing. encontrada no link abaixo. "
   ]
  },
  {
   "cell_type": "code",
   "execution_count": 15,
   "metadata": {},
   "outputs": [
    {
     "name": "stdout",
     "output_type": "stream",
     "text": [
      "   House Price  House Size (sq.ft.) State  Number of Rooms  \\\n",
      "0      1116000                 1940    IN                8   \n",
      "1       860000                 1300    IN                5   \n",
      "2       818400                 1420    IN                6   \n",
      "3      1000000                 1680    IN                7   \n",
      "4       640000                 1270    IN                5   \n",
      "\n",
      "   Year of Construction  \n",
      "0                  2002  \n",
      "1                  1992  \n",
      "2                  1987  \n",
      "3                  2000  \n",
      "4                  1995  \n",
      "<class 'pandas.core.frame.DataFrame'>\n",
      "RangeIndex: 20 entries, 0 to 19\n",
      "Data columns (total 5 columns):\n",
      " #   Column                Non-Null Count  Dtype \n",
      "---  ------                --------------  ----- \n",
      " 0   House Price           20 non-null     int64 \n",
      " 1   House Size (sq.ft.)   20 non-null     int64 \n",
      " 2   State                 20 non-null     object\n",
      " 3   Number of Rooms       20 non-null     int64 \n",
      " 4   Year of Construction  20 non-null     int64 \n",
      "dtypes: int64(4), object(1)\n",
      "memory usage: 928.0+ bytes\n",
      "None\n"
     ]
    }
   ],
   "source": [
    "import pandas as pd\n",
    "import pandas as pd\n",
    "from scipy import stats\n",
    "import statsmodels.api as sm\n",
    "import matplotlib.pyplot as plt\n",
    "\n",
    "# Link direto para o arquivo\n",
    "housing_url = \"https://raw.githubusercontent.com/JoseHeraldo/analisefinanceira/main/Housing.xlsx\"\n",
    "\n",
    "# Ler o arquivo Excel diretamente\n",
    "df = pd.read_excel(housing_url)\n",
    "\n",
    "\n",
    "# Mostrar as primeiras linhas\n",
    "print(df.head())\n",
    "\n",
    "# Informações gerais\n",
    "print(df.info())"
   ]
  },
  {
   "cell_type": "code",
   "execution_count": 16,
   "metadata": {},
   "outputs": [],
   "source": [
    "X = df[['House Size (sq.ft.)','Number of Rooms', 'Year of Construction']]\n",
    "Y = df['House Price']"
   ]
  },
  {
   "cell_type": "code",
   "execution_count": 17,
   "metadata": {},
   "outputs": [
    {
     "data": {
      "text/html": [
       "<table class=\"simpletable\">\n",
       "<caption>OLS Regression Results</caption>\n",
       "<tr>\n",
       "  <th>Dep. Variable:</th>       <td>House Price</td>   <th>  R-squared:         </th> <td>   0.736</td>\n",
       "</tr>\n",
       "<tr>\n",
       "  <th>Model:</th>                   <td>OLS</td>       <th>  Adj. R-squared:    </th> <td>   0.687</td>\n",
       "</tr>\n",
       "<tr>\n",
       "  <th>Method:</th>             <td>Least Squares</td>  <th>  F-statistic:       </th> <td>   14.90</td>\n",
       "</tr>\n",
       "<tr>\n",
       "  <th>Date:</th>             <td>Thu, 02 Jan 2025</td> <th>  Prob (F-statistic):</th> <td>6.82e-05</td>\n",
       "</tr>\n",
       "<tr>\n",
       "  <th>Time:</th>                 <td>21:42:17</td>     <th>  Log-Likelihood:    </th> <td> -258.43</td>\n",
       "</tr>\n",
       "<tr>\n",
       "  <th>No. Observations:</th>      <td>    20</td>      <th>  AIC:               </th> <td>   524.9</td>\n",
       "</tr>\n",
       "<tr>\n",
       "  <th>Df Residuals:</th>          <td>    16</td>      <th>  BIC:               </th> <td>   528.9</td>\n",
       "</tr>\n",
       "<tr>\n",
       "  <th>Df Model:</th>              <td>     3</td>      <th>                     </th>     <td> </td>   \n",
       "</tr>\n",
       "<tr>\n",
       "  <th>Covariance Type:</th>      <td>nonrobust</td>    <th>                     </th>     <td> </td>   \n",
       "</tr>\n",
       "</table>\n",
       "<table class=\"simpletable\">\n",
       "<tr>\n",
       "            <td></td>              <th>coef</th>     <th>std err</th>      <th>t</th>      <th>P>|t|</th>  <th>[0.025</th>    <th>0.975]</th>  \n",
       "</tr>\n",
       "<tr>\n",
       "  <th>const</th>                <td>-9.452e+06</td> <td>  5.4e+06</td> <td>   -1.752</td> <td> 0.099</td> <td>-2.09e+07</td> <td> 1.99e+06</td>\n",
       "</tr>\n",
       "<tr>\n",
       "  <th>House Size (sq.ft.)</th>  <td>  341.8271</td> <td>  179.666</td> <td>    1.903</td> <td> 0.075</td> <td>  -39.049</td> <td>  722.703</td>\n",
       "</tr>\n",
       "<tr>\n",
       "  <th>Number of Rooms</th>      <td>  1.16e+04</td> <td> 3.74e+04</td> <td>    0.310</td> <td> 0.760</td> <td>-6.77e+04</td> <td> 9.08e+04</td>\n",
       "</tr>\n",
       "<tr>\n",
       "  <th>Year of Construction</th> <td> 4863.5761</td> <td> 2697.969</td> <td>    1.803</td> <td> 0.090</td> <td> -855.862</td> <td> 1.06e+04</td>\n",
       "</tr>\n",
       "</table>\n",
       "<table class=\"simpletable\">\n",
       "<tr>\n",
       "  <th>Omnibus:</th>       <td> 2.140</td> <th>  Durbin-Watson:     </th> <td>   1.938</td>\n",
       "</tr>\n",
       "<tr>\n",
       "  <th>Prob(Omnibus):</th> <td> 0.343</td> <th>  Jarque-Bera (JB):  </th> <td>   1.747</td>\n",
       "</tr>\n",
       "<tr>\n",
       "  <th>Skew:</th>          <td>-0.676</td> <th>  Prob(JB):          </th> <td>   0.418</td>\n",
       "</tr>\n",
       "<tr>\n",
       "  <th>Kurtosis:</th>      <td> 2.484</td> <th>  Cond. No.          </th> <td>5.40e+05</td>\n",
       "</tr>\n",
       "</table><br/><br/>Notes:<br/>[1] Standard Errors assume that the covariance matrix of the errors is correctly specified.<br/>[2] The condition number is large, 5.4e+05. This might indicate that there are<br/>strong multicollinearity or other numerical problems."
      ],
      "text/plain": [
       "<class 'statsmodels.iolib.summary.Summary'>\n",
       "\"\"\"\n",
       "                            OLS Regression Results                            \n",
       "==============================================================================\n",
       "Dep. Variable:            House Price   R-squared:                       0.736\n",
       "Model:                            OLS   Adj. R-squared:                  0.687\n",
       "Method:                 Least Squares   F-statistic:                     14.90\n",
       "Date:                Thu, 02 Jan 2025   Prob (F-statistic):           6.82e-05\n",
       "Time:                        21:42:17   Log-Likelihood:                -258.43\n",
       "No. Observations:                  20   AIC:                             524.9\n",
       "Df Residuals:                      16   BIC:                             528.9\n",
       "Df Model:                           3                                         \n",
       "Covariance Type:            nonrobust                                         \n",
       "========================================================================================\n",
       "                           coef    std err          t      P>|t|      [0.025      0.975]\n",
       "----------------------------------------------------------------------------------------\n",
       "const                -9.452e+06    5.4e+06     -1.752      0.099   -2.09e+07    1.99e+06\n",
       "House Size (sq.ft.)    341.8271    179.666      1.903      0.075     -39.049     722.703\n",
       "Number of Rooms        1.16e+04   3.74e+04      0.310      0.760   -6.77e+04    9.08e+04\n",
       "Year of Construction  4863.5761   2697.969      1.803      0.090    -855.862    1.06e+04\n",
       "==============================================================================\n",
       "Omnibus:                        2.140   Durbin-Watson:                   1.938\n",
       "Prob(Omnibus):                  0.343   Jarque-Bera (JB):                1.747\n",
       "Skew:                          -0.676   Prob(JB):                        0.418\n",
       "Kurtosis:                       2.484   Cond. No.                     5.40e+05\n",
       "==============================================================================\n",
       "\n",
       "Notes:\n",
       "[1] Standard Errors assume that the covariance matrix of the errors is correctly specified.\n",
       "[2] The condition number is large, 5.4e+05. This might indicate that there are\n",
       "strong multicollinearity or other numerical problems.\n",
       "\"\"\""
      ]
     },
     "execution_count": 17,
     "metadata": {},
     "output_type": "execute_result"
    }
   ],
   "source": [
    "X1 = sm.add_constant(X)\n",
    "reg = sm.OLS(Y, X1).fit()\n",
    "\n",
    "reg.summary()"
   ]
  },
  {
   "cell_type": "code",
   "execution_count": 18,
   "metadata": {},
   "outputs": [],
   "source": [
    "X = df[['House Size (sq.ft.)', 'Number of Rooms']]\n",
    "Y = df['House Price']"
   ]
  },
  {
   "cell_type": "code",
   "execution_count": 19,
   "metadata": {},
   "outputs": [
    {
     "data": {
      "text/html": [
       "<table class=\"simpletable\">\n",
       "<caption>OLS Regression Results</caption>\n",
       "<tr>\n",
       "  <th>Dep. Variable:</th>       <td>House Price</td>   <th>  R-squared:         </th> <td>   0.683</td>\n",
       "</tr>\n",
       "<tr>\n",
       "  <th>Model:</th>                   <td>OLS</td>       <th>  Adj. R-squared:    </th> <td>   0.645</td>\n",
       "</tr>\n",
       "<tr>\n",
       "  <th>Method:</th>             <td>Least Squares</td>  <th>  F-statistic:       </th> <td>   18.30</td>\n",
       "</tr>\n",
       "<tr>\n",
       "  <th>Date:</th>             <td>Thu, 02 Jan 2025</td> <th>  Prob (F-statistic):</th> <td>5.77e-05</td>\n",
       "</tr>\n",
       "<tr>\n",
       "  <th>Time:</th>                 <td>21:42:45</td>     <th>  Log-Likelihood:    </th> <td> -260.28</td>\n",
       "</tr>\n",
       "<tr>\n",
       "  <th>No. Observations:</th>      <td>    20</td>      <th>  AIC:               </th> <td>   526.6</td>\n",
       "</tr>\n",
       "<tr>\n",
       "  <th>Df Residuals:</th>          <td>    17</td>      <th>  BIC:               </th> <td>   529.6</td>\n",
       "</tr>\n",
       "<tr>\n",
       "  <th>Df Model:</th>              <td>     2</td>      <th>                     </th>     <td> </td>   \n",
       "</tr>\n",
       "<tr>\n",
       "  <th>Covariance Type:</th>      <td>nonrobust</td>    <th>                     </th>     <td> </td>   \n",
       "</tr>\n",
       "</table>\n",
       "<table class=\"simpletable\">\n",
       "<tr>\n",
       "           <td></td>              <th>coef</th>     <th>std err</th>      <th>t</th>      <th>P>|t|</th>  <th>[0.025</th>    <th>0.975]</th>  \n",
       "</tr>\n",
       "<tr>\n",
       "  <th>const</th>               <td> 2.737e+05</td> <td> 1.03e+05</td> <td>    2.655</td> <td> 0.017</td> <td> 5.62e+04</td> <td> 4.91e+05</td>\n",
       "</tr>\n",
       "<tr>\n",
       "  <th>House Size (sq.ft.)</th> <td>  314.1363</td> <td>  190.485</td> <td>    1.649</td> <td> 0.117</td> <td>  -87.752</td> <td>  716.025</td>\n",
       "</tr>\n",
       "<tr>\n",
       "  <th>Number of Rooms</th>     <td> 1.944e+04</td> <td> 3.95e+04</td> <td>    0.492</td> <td> 0.629</td> <td>-6.39e+04</td> <td> 1.03e+05</td>\n",
       "</tr>\n",
       "</table>\n",
       "<table class=\"simpletable\">\n",
       "<tr>\n",
       "  <th>Omnibus:</th>       <td> 1.326</td> <th>  Durbin-Watson:     </th> <td>   1.852</td>\n",
       "</tr>\n",
       "<tr>\n",
       "  <th>Prob(Omnibus):</th> <td> 0.515</td> <th>  Jarque-Bera (JB):  </th> <td>   0.810</td>\n",
       "</tr>\n",
       "<tr>\n",
       "  <th>Skew:</th>          <td>-0.487</td> <th>  Prob(JB):          </th> <td>   0.667</td>\n",
       "</tr>\n",
       "<tr>\n",
       "  <th>Kurtosis:</th>      <td> 2.853</td> <th>  Cond. No.          </th> <td>5.89e+03</td>\n",
       "</tr>\n",
       "</table><br/><br/>Notes:<br/>[1] Standard Errors assume that the covariance matrix of the errors is correctly specified.<br/>[2] The condition number is large, 5.89e+03. This might indicate that there are<br/>strong multicollinearity or other numerical problems."
      ],
      "text/plain": [
       "<class 'statsmodels.iolib.summary.Summary'>\n",
       "\"\"\"\n",
       "                            OLS Regression Results                            \n",
       "==============================================================================\n",
       "Dep. Variable:            House Price   R-squared:                       0.683\n",
       "Model:                            OLS   Adj. R-squared:                  0.645\n",
       "Method:                 Least Squares   F-statistic:                     18.30\n",
       "Date:                Thu, 02 Jan 2025   Prob (F-statistic):           5.77e-05\n",
       "Time:                        21:42:45   Log-Likelihood:                -260.28\n",
       "No. Observations:                  20   AIC:                             526.6\n",
       "Df Residuals:                      17   BIC:                             529.6\n",
       "Df Model:                           2                                         \n",
       "Covariance Type:            nonrobust                                         \n",
       "=======================================================================================\n",
       "                          coef    std err          t      P>|t|      [0.025      0.975]\n",
       "---------------------------------------------------------------------------------------\n",
       "const                2.737e+05   1.03e+05      2.655      0.017    5.62e+04    4.91e+05\n",
       "House Size (sq.ft.)   314.1363    190.485      1.649      0.117     -87.752     716.025\n",
       "Number of Rooms      1.944e+04   3.95e+04      0.492      0.629   -6.39e+04    1.03e+05\n",
       "==============================================================================\n",
       "Omnibus:                        1.326   Durbin-Watson:                   1.852\n",
       "Prob(Omnibus):                  0.515   Jarque-Bera (JB):                0.810\n",
       "Skew:                          -0.487   Prob(JB):                        0.667\n",
       "Kurtosis:                       2.853   Cond. No.                     5.89e+03\n",
       "==============================================================================\n",
       "\n",
       "Notes:\n",
       "[1] Standard Errors assume that the covariance matrix of the errors is correctly specified.\n",
       "[2] The condition number is large, 5.89e+03. This might indicate that there are\n",
       "strong multicollinearity or other numerical problems.\n",
       "\"\"\""
      ]
     },
     "execution_count": 19,
     "metadata": {},
     "output_type": "execute_result"
    }
   ],
   "source": [
    "X1 = sm.add_constant(X)\n",
    "reg = sm.OLS(Y,X1).fit()\n",
    "\n",
    "reg.summary()"
   ]
  },
  {
   "cell_type": "markdown",
   "metadata": {},
   "source": [
    "Lembrar de sempre testar as regressoes. Para obter o melhor resultado. Testar com diferentes variaveis é importante. "
   ]
  }
 ],
 "metadata": {
  "kernelspec": {
   "display_name": ".venv",
   "language": "python",
   "name": "python3"
  },
  "language_info": {
   "codemirror_mode": {
    "name": "ipython",
    "version": 3
   },
   "file_extension": ".py",
   "mimetype": "text/x-python",
   "name": "python",
   "nbconvert_exporter": "python",
   "pygments_lexer": "ipython3",
   "version": "3.11.0rc2"
  }
 },
 "nbformat": 4,
 "nbformat_minor": 2
}
