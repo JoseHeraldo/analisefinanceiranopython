{
 "cells": [
  {
   "cell_type": "markdown",
   "metadata": {},
   "source": [
    "Importando abase de dados "
   ]
  },
  {
   "cell_type": "markdown",
   "metadata": {},
   "source": [
    "#### Usando a biblioteca \"yfinance\" pois a pandas_datareader não tem mais suporte para os dados financeiros disponiveis no Yahoo"
   ]
  },
  {
   "cell_type": "code",
   "execution_count": 5,
   "metadata": {},
   "outputs": [
    {
     "name": "stderr",
     "output_type": "stream",
     "text": [
      "[*********************100%***********************]  1 of 1 completed"
     ]
    },
    {
     "name": "stdout",
     "output_type": "stream",
     "text": [
      "Price          Close      High       Low      Open   Volume\n",
      "Ticker            PG        PG        PG        PG       PG\n",
      "Date                                                       \n",
      "1995-01-03  7.441167  7.456079  7.366606  7.381518  3318400\n",
      "1995-01-04  7.381520  7.470993  7.306959  7.411345  2218800\n",
      "1995-01-05  7.277130  7.366603  7.262217  7.336778  2319600\n",
      "1995-01-06  7.292042  7.351691  7.232394  7.232394  3438000\n",
      "1995-01-09  7.262219  7.351692  7.247307  7.321868  1795200\n"
     ]
    },
    {
     "name": "stderr",
     "output_type": "stream",
     "text": [
      "\n"
     ]
    }
   ],
   "source": [
    "import pandas as pd\n",
    "import yfinance as yf  # Para baixar os dados financeiros\n",
    "\n",
    "# Baixando os dados da Procter & Gamble (PG) a partir de 1995\n",
    "PG = yf.download('PG', start='1995-1-1')\n",
    "print(PG.head())\n"
   ]
  },
  {
   "cell_type": "markdown",
   "metadata": {},
   "source": [
    "Abaixo, uma breve esposição da base de dados"
   ]
  },
  {
   "cell_type": "code",
   "execution_count": 6,
   "metadata": {},
   "outputs": [
    {
     "data": {
      "text/html": [
       "<div>\n",
       "<style scoped>\n",
       "    .dataframe tbody tr th:only-of-type {\n",
       "        vertical-align: middle;\n",
       "    }\n",
       "\n",
       "    .dataframe tbody tr th {\n",
       "        vertical-align: top;\n",
       "    }\n",
       "\n",
       "    .dataframe thead tr th {\n",
       "        text-align: left;\n",
       "    }\n",
       "\n",
       "    .dataframe thead tr:last-of-type th {\n",
       "        text-align: right;\n",
       "    }\n",
       "</style>\n",
       "<table border=\"1\" class=\"dataframe\">\n",
       "  <thead>\n",
       "    <tr>\n",
       "      <th>Price</th>\n",
       "      <th>Close</th>\n",
       "      <th>High</th>\n",
       "      <th>Low</th>\n",
       "      <th>Open</th>\n",
       "      <th>Volume</th>\n",
       "    </tr>\n",
       "    <tr>\n",
       "      <th>Ticker</th>\n",
       "      <th>PG</th>\n",
       "      <th>PG</th>\n",
       "      <th>PG</th>\n",
       "      <th>PG</th>\n",
       "      <th>PG</th>\n",
       "    </tr>\n",
       "    <tr>\n",
       "      <th>Date</th>\n",
       "      <th></th>\n",
       "      <th></th>\n",
       "      <th></th>\n",
       "      <th></th>\n",
       "      <th></th>\n",
       "    </tr>\n",
       "  </thead>\n",
       "  <tbody>\n",
       "    <tr>\n",
       "      <th>1995-01-03</th>\n",
       "      <td>7.441167</td>\n",
       "      <td>7.456079</td>\n",
       "      <td>7.366606</td>\n",
       "      <td>7.381518</td>\n",
       "      <td>3318400</td>\n",
       "    </tr>\n",
       "    <tr>\n",
       "      <th>1995-01-04</th>\n",
       "      <td>7.381520</td>\n",
       "      <td>7.470993</td>\n",
       "      <td>7.306959</td>\n",
       "      <td>7.411345</td>\n",
       "      <td>2218800</td>\n",
       "    </tr>\n",
       "    <tr>\n",
       "      <th>1995-01-05</th>\n",
       "      <td>7.277130</td>\n",
       "      <td>7.366603</td>\n",
       "      <td>7.262217</td>\n",
       "      <td>7.336778</td>\n",
       "      <td>2319600</td>\n",
       "    </tr>\n",
       "    <tr>\n",
       "      <th>1995-01-06</th>\n",
       "      <td>7.292042</td>\n",
       "      <td>7.351691</td>\n",
       "      <td>7.232394</td>\n",
       "      <td>7.232394</td>\n",
       "      <td>3438000</td>\n",
       "    </tr>\n",
       "    <tr>\n",
       "      <th>1995-01-09</th>\n",
       "      <td>7.262219</td>\n",
       "      <td>7.351692</td>\n",
       "      <td>7.247307</td>\n",
       "      <td>7.321868</td>\n",
       "      <td>1795200</td>\n",
       "    </tr>\n",
       "    <tr>\n",
       "      <th>...</th>\n",
       "      <td>...</td>\n",
       "      <td>...</td>\n",
       "      <td>...</td>\n",
       "      <td>...</td>\n",
       "      <td>...</td>\n",
       "    </tr>\n",
       "    <tr>\n",
       "      <th>2024-12-26</th>\n",
       "      <td>170.160004</td>\n",
       "      <td>170.300003</td>\n",
       "      <td>168.070007</td>\n",
       "      <td>168.309998</td>\n",
       "      <td>3629400</td>\n",
       "    </tr>\n",
       "    <tr>\n",
       "      <th>2024-12-27</th>\n",
       "      <td>169.529999</td>\n",
       "      <td>170.759995</td>\n",
       "      <td>169.259995</td>\n",
       "      <td>169.419998</td>\n",
       "      <td>4367900</td>\n",
       "    </tr>\n",
       "    <tr>\n",
       "      <th>2024-12-30</th>\n",
       "      <td>167.089996</td>\n",
       "      <td>168.979996</td>\n",
       "      <td>166.710007</td>\n",
       "      <td>168.669998</td>\n",
       "      <td>4354500</td>\n",
       "    </tr>\n",
       "    <tr>\n",
       "      <th>2024-12-31</th>\n",
       "      <td>167.649994</td>\n",
       "      <td>168.080002</td>\n",
       "      <td>166.589996</td>\n",
       "      <td>167.360001</td>\n",
       "      <td>3957600</td>\n",
       "    </tr>\n",
       "    <tr>\n",
       "      <th>2025-01-02</th>\n",
       "      <td>166.619995</td>\n",
       "      <td>168.705200</td>\n",
       "      <td>166.179993</td>\n",
       "      <td>168.085007</td>\n",
       "      <td>2039590</td>\n",
       "    </tr>\n",
       "  </tbody>\n",
       "</table>\n",
       "<p>7553 rows × 5 columns</p>\n",
       "</div>"
      ],
      "text/plain": [
       "Price            Close        High         Low        Open   Volume\n",
       "Ticker              PG          PG          PG          PG       PG\n",
       "Date                                                               \n",
       "1995-01-03    7.441167    7.456079    7.366606    7.381518  3318400\n",
       "1995-01-04    7.381520    7.470993    7.306959    7.411345  2218800\n",
       "1995-01-05    7.277130    7.366603    7.262217    7.336778  2319600\n",
       "1995-01-06    7.292042    7.351691    7.232394    7.232394  3438000\n",
       "1995-01-09    7.262219    7.351692    7.247307    7.321868  1795200\n",
       "...                ...         ...         ...         ...      ...\n",
       "2024-12-26  170.160004  170.300003  168.070007  168.309998  3629400\n",
       "2024-12-27  169.529999  170.759995  169.259995  169.419998  4367900\n",
       "2024-12-30  167.089996  168.979996  166.710007  168.669998  4354500\n",
       "2024-12-31  167.649994  168.080002  166.589996  167.360001  3957600\n",
       "2025-01-02  166.619995  168.705200  166.179993  168.085007  2039590\n",
       "\n",
       "[7553 rows x 5 columns]"
      ]
     },
     "execution_count": 6,
     "metadata": {},
     "output_type": "execute_result"
    }
   ],
   "source": [
    "PG"
   ]
  },
  {
   "cell_type": "markdown",
   "metadata": {},
   "source": [
    "Se preferivel, pode visualizar a o data frame utilizando os comandos abaixo. "
   ]
  },
  {
   "cell_type": "code",
   "execution_count": 7,
   "metadata": {},
   "outputs": [
    {
     "data": {
      "text/html": [
       "<div>\n",
       "<style scoped>\n",
       "    .dataframe tbody tr th:only-of-type {\n",
       "        vertical-align: middle;\n",
       "    }\n",
       "\n",
       "    .dataframe tbody tr th {\n",
       "        vertical-align: top;\n",
       "    }\n",
       "\n",
       "    .dataframe thead tr th {\n",
       "        text-align: left;\n",
       "    }\n",
       "\n",
       "    .dataframe thead tr:last-of-type th {\n",
       "        text-align: right;\n",
       "    }\n",
       "</style>\n",
       "<table border=\"1\" class=\"dataframe\">\n",
       "  <thead>\n",
       "    <tr>\n",
       "      <th>Price</th>\n",
       "      <th>Close</th>\n",
       "      <th>High</th>\n",
       "      <th>Low</th>\n",
       "      <th>Open</th>\n",
       "      <th>Volume</th>\n",
       "    </tr>\n",
       "    <tr>\n",
       "      <th>Ticker</th>\n",
       "      <th>PG</th>\n",
       "      <th>PG</th>\n",
       "      <th>PG</th>\n",
       "      <th>PG</th>\n",
       "      <th>PG</th>\n",
       "    </tr>\n",
       "    <tr>\n",
       "      <th>Date</th>\n",
       "      <th></th>\n",
       "      <th></th>\n",
       "      <th></th>\n",
       "      <th></th>\n",
       "      <th></th>\n",
       "    </tr>\n",
       "  </thead>\n",
       "  <tbody>\n",
       "    <tr>\n",
       "      <th>1995-01-03</th>\n",
       "      <td>7.441167</td>\n",
       "      <td>7.456079</td>\n",
       "      <td>7.366606</td>\n",
       "      <td>7.381518</td>\n",
       "      <td>3318400</td>\n",
       "    </tr>\n",
       "    <tr>\n",
       "      <th>1995-01-04</th>\n",
       "      <td>7.381520</td>\n",
       "      <td>7.470993</td>\n",
       "      <td>7.306959</td>\n",
       "      <td>7.411345</td>\n",
       "      <td>2218800</td>\n",
       "    </tr>\n",
       "    <tr>\n",
       "      <th>1995-01-05</th>\n",
       "      <td>7.277130</td>\n",
       "      <td>7.366603</td>\n",
       "      <td>7.262217</td>\n",
       "      <td>7.336778</td>\n",
       "      <td>2319600</td>\n",
       "    </tr>\n",
       "    <tr>\n",
       "      <th>1995-01-06</th>\n",
       "      <td>7.292042</td>\n",
       "      <td>7.351691</td>\n",
       "      <td>7.232394</td>\n",
       "      <td>7.232394</td>\n",
       "      <td>3438000</td>\n",
       "    </tr>\n",
       "    <tr>\n",
       "      <th>1995-01-09</th>\n",
       "      <td>7.262219</td>\n",
       "      <td>7.351692</td>\n",
       "      <td>7.247307</td>\n",
       "      <td>7.321868</td>\n",
       "      <td>1795200</td>\n",
       "    </tr>\n",
       "  </tbody>\n",
       "</table>\n",
       "</div>"
      ],
      "text/plain": [
       "Price          Close      High       Low      Open   Volume\n",
       "Ticker            PG        PG        PG        PG       PG\n",
       "Date                                                       \n",
       "1995-01-03  7.441167  7.456079  7.366606  7.381518  3318400\n",
       "1995-01-04  7.381520  7.470993  7.306959  7.411345  2218800\n",
       "1995-01-05  7.277130  7.366603  7.262217  7.336778  2319600\n",
       "1995-01-06  7.292042  7.351691  7.232394  7.232394  3438000\n",
       "1995-01-09  7.262219  7.351692  7.247307  7.321868  1795200"
      ]
     },
     "execution_count": 7,
     "metadata": {},
     "output_type": "execute_result"
    }
   ],
   "source": [
    "PG.head()"
   ]
  },
  {
   "cell_type": "markdown",
   "metadata": {},
   "source": [
    "Abaixo para saber quando a base de dados termina. Ou seja, tem dados disponiveis ate o dia 20/12/2024. Caso eu faça uma atualização, provavelmente, terão dados todas os dias atualizados."
   ]
  },
  {
   "cell_type": "code",
   "execution_count": 8,
   "metadata": {},
   "outputs": [
    {
     "data": {
      "text/html": [
       "<div>\n",
       "<style scoped>\n",
       "    .dataframe tbody tr th:only-of-type {\n",
       "        vertical-align: middle;\n",
       "    }\n",
       "\n",
       "    .dataframe tbody tr th {\n",
       "        vertical-align: top;\n",
       "    }\n",
       "\n",
       "    .dataframe thead tr th {\n",
       "        text-align: left;\n",
       "    }\n",
       "\n",
       "    .dataframe thead tr:last-of-type th {\n",
       "        text-align: right;\n",
       "    }\n",
       "</style>\n",
       "<table border=\"1\" class=\"dataframe\">\n",
       "  <thead>\n",
       "    <tr>\n",
       "      <th>Price</th>\n",
       "      <th>Close</th>\n",
       "      <th>High</th>\n",
       "      <th>Low</th>\n",
       "      <th>Open</th>\n",
       "      <th>Volume</th>\n",
       "    </tr>\n",
       "    <tr>\n",
       "      <th>Ticker</th>\n",
       "      <th>PG</th>\n",
       "      <th>PG</th>\n",
       "      <th>PG</th>\n",
       "      <th>PG</th>\n",
       "      <th>PG</th>\n",
       "    </tr>\n",
       "    <tr>\n",
       "      <th>Date</th>\n",
       "      <th></th>\n",
       "      <th></th>\n",
       "      <th></th>\n",
       "      <th></th>\n",
       "      <th></th>\n",
       "    </tr>\n",
       "  </thead>\n",
       "  <tbody>\n",
       "    <tr>\n",
       "      <th>2024-12-26</th>\n",
       "      <td>170.160004</td>\n",
       "      <td>170.300003</td>\n",
       "      <td>168.070007</td>\n",
       "      <td>168.309998</td>\n",
       "      <td>3629400</td>\n",
       "    </tr>\n",
       "    <tr>\n",
       "      <th>2024-12-27</th>\n",
       "      <td>169.529999</td>\n",
       "      <td>170.759995</td>\n",
       "      <td>169.259995</td>\n",
       "      <td>169.419998</td>\n",
       "      <td>4367900</td>\n",
       "    </tr>\n",
       "    <tr>\n",
       "      <th>2024-12-30</th>\n",
       "      <td>167.089996</td>\n",
       "      <td>168.979996</td>\n",
       "      <td>166.710007</td>\n",
       "      <td>168.669998</td>\n",
       "      <td>4354500</td>\n",
       "    </tr>\n",
       "    <tr>\n",
       "      <th>2024-12-31</th>\n",
       "      <td>167.649994</td>\n",
       "      <td>168.080002</td>\n",
       "      <td>166.589996</td>\n",
       "      <td>167.360001</td>\n",
       "      <td>3957600</td>\n",
       "    </tr>\n",
       "    <tr>\n",
       "      <th>2025-01-02</th>\n",
       "      <td>166.619995</td>\n",
       "      <td>168.705200</td>\n",
       "      <td>166.179993</td>\n",
       "      <td>168.085007</td>\n",
       "      <td>2039590</td>\n",
       "    </tr>\n",
       "  </tbody>\n",
       "</table>\n",
       "</div>"
      ],
      "text/plain": [
       "Price            Close        High         Low        Open   Volume\n",
       "Ticker              PG          PG          PG          PG       PG\n",
       "Date                                                               \n",
       "2024-12-26  170.160004  170.300003  168.070007  168.309998  3629400\n",
       "2024-12-27  169.529999  170.759995  169.259995  169.419998  4367900\n",
       "2024-12-30  167.089996  168.979996  166.710007  168.669998  4354500\n",
       "2024-12-31  167.649994  168.080002  166.589996  167.360001  3957600\n",
       "2025-01-02  166.619995  168.705200  166.179993  168.085007  2039590"
      ]
     },
     "execution_count": 8,
     "metadata": {},
     "output_type": "execute_result"
    }
   ],
   "source": [
    "PG.tail()"
   ]
  },
  {
   "cell_type": "markdown",
   "metadata": {},
   "source": [
    "Outra forma de baixar os dados é por mais de uma ação. Neste caso, usaremos PG, MSFT, T, F e GE. "
   ]
  },
  {
   "cell_type": "code",
   "execution_count": 9,
   "metadata": {},
   "outputs": [
    {
     "name": "stderr",
     "output_type": "stream",
     "text": [
      "[*********************100%***********************]  1 of 1 completed\n",
      "[*********************100%***********************]  1 of 1 completed\n",
      "[*********************100%***********************]  1 of 1 completed\n",
      "[*********************100%***********************]  1 of 1 completed\n",
      "[*********************100%***********************]  1 of 1 completed"
     ]
    },
    {
     "name": "stdout",
     "output_type": "stream",
     "text": [
      "                  PG      MSFT         T         F         GE\n",
      "Date                                                         \n",
      "1995-01-03  7.441168  2.319452  2.369481  3.569730  20.200665\n",
      "1995-01-04  7.381518  2.336315  2.363452  3.665780  20.200665\n",
      "1995-01-05  7.277135  2.297777  2.400382  3.633765  20.250158\n",
      "1995-01-06  7.292044  2.336315  2.400382  3.633765  20.151140\n",
      "1995-01-09  7.262219  2.321861  2.392997  3.697795  19.953106\n"
     ]
    },
    {
     "name": "stderr",
     "output_type": "stream",
     "text": [
      "\n"
     ]
    }
   ],
   "source": [
    "import pandas as pd\n",
    "import yfinance as yf  # Para baixar os dados financeiros\n",
    "\n",
    "tickers = ['PG', 'MSFT', 'T', 'F', 'GE']\n",
    "new_data = pd.DataFrame()\n",
    "\n",
    "for t in tickers:\n",
    "    new_data[t] = yf.download(t, start='1995-01-01')['Close']  # Apenas o preço de fechamento\n",
    "\n",
    "print(new_data.head())"
   ]
  },
  {
   "cell_type": "markdown",
   "metadata": {},
   "source": [
    "Agora vamos ve até quando tem dados dessas ações"
   ]
  },
  {
   "cell_type": "code",
   "execution_count": 10,
   "metadata": {},
   "outputs": [
    {
     "data": {
      "text/html": [
       "<div>\n",
       "<style scoped>\n",
       "    .dataframe tbody tr th:only-of-type {\n",
       "        vertical-align: middle;\n",
       "    }\n",
       "\n",
       "    .dataframe tbody tr th {\n",
       "        vertical-align: top;\n",
       "    }\n",
       "\n",
       "    .dataframe thead th {\n",
       "        text-align: right;\n",
       "    }\n",
       "</style>\n",
       "<table border=\"1\" class=\"dataframe\">\n",
       "  <thead>\n",
       "    <tr style=\"text-align: right;\">\n",
       "      <th></th>\n",
       "      <th>PG</th>\n",
       "      <th>MSFT</th>\n",
       "      <th>T</th>\n",
       "      <th>F</th>\n",
       "      <th>GE</th>\n",
       "    </tr>\n",
       "    <tr>\n",
       "      <th>Date</th>\n",
       "      <th></th>\n",
       "      <th></th>\n",
       "      <th></th>\n",
       "      <th></th>\n",
       "      <th></th>\n",
       "    </tr>\n",
       "  </thead>\n",
       "  <tbody>\n",
       "    <tr>\n",
       "      <th>2024-12-26</th>\n",
       "      <td>170.160004</td>\n",
       "      <td>438.109985</td>\n",
       "      <td>22.959999</td>\n",
       "      <td>10.07</td>\n",
       "      <td>171.869995</td>\n",
       "    </tr>\n",
       "    <tr>\n",
       "      <th>2024-12-27</th>\n",
       "      <td>169.529999</td>\n",
       "      <td>430.529999</td>\n",
       "      <td>22.860001</td>\n",
       "      <td>10.03</td>\n",
       "      <td>170.080002</td>\n",
       "    </tr>\n",
       "    <tr>\n",
       "      <th>2024-12-30</th>\n",
       "      <td>167.089996</td>\n",
       "      <td>424.829987</td>\n",
       "      <td>22.610001</td>\n",
       "      <td>9.88</td>\n",
       "      <td>168.100006</td>\n",
       "    </tr>\n",
       "    <tr>\n",
       "      <th>2024-12-31</th>\n",
       "      <td>167.649994</td>\n",
       "      <td>421.500000</td>\n",
       "      <td>22.770000</td>\n",
       "      <td>9.90</td>\n",
       "      <td>166.789993</td>\n",
       "    </tr>\n",
       "    <tr>\n",
       "      <th>2025-01-02</th>\n",
       "      <td>166.619995</td>\n",
       "      <td>416.140015</td>\n",
       "      <td>22.930000</td>\n",
       "      <td>9.70</td>\n",
       "      <td>168.059998</td>\n",
       "    </tr>\n",
       "  </tbody>\n",
       "</table>\n",
       "</div>"
      ],
      "text/plain": [
       "                    PG        MSFT          T      F          GE\n",
       "Date                                                            \n",
       "2024-12-26  170.160004  438.109985  22.959999  10.07  171.869995\n",
       "2024-12-27  169.529999  430.529999  22.860001  10.03  170.080002\n",
       "2024-12-30  167.089996  424.829987  22.610001   9.88  168.100006\n",
       "2024-12-31  167.649994  421.500000  22.770000   9.90  166.789993\n",
       "2025-01-02  166.619995  416.140015  22.930000   9.70  168.059998"
      ]
     },
     "execution_count": 10,
     "metadata": {},
     "output_type": "execute_result"
    }
   ],
   "source": [
    "new_data.tail()"
   ]
  },
  {
   "cell_type": "markdown",
   "metadata": {},
   "source": [
    "### Agora vamos calcular a taxa de retorno de um ativo."
   ]
  },
  {
   "cell_type": "markdown",
   "metadata": {},
   "source": [
    "### Cálculo da Taxa Simples de Retorno\n",
    "\n",
    "A fórmula para calcular a taxa simples de retorno (\\(R_t\\)) é:\n",
    "\n",
    "\\[\n",
    "R_t = \\frac{P_t - P_{t-1}}{P_{t-1}}\n",
    "\\]\n",
    "\n",
    "Ou de forma equivalente:\n",
    "\n",
    "\\[\n",
    "R_t = \\frac{P_t}{P_{t-1}} - 1\n",
    "\\]\n",
    "\n",
    "#### Variáveis:\n",
    "- \\(R_t\\): Taxa de retorno no período \\(t\\);\n",
    "- \\(P_t\\): Preço do ativo no final do período \\(t\\);\n",
    "- \\(P_{t-1}\\): Preço do ativo no início do período \\(t\\).\n",
    "\n",
    "#### Exemplo:\n",
    "Se o preço de um ativo era \\(P_{t-1} = 100\\) e subiu para \\(P_t = 110\\):\n",
    "\n",
    "\\[\n",
    "R_t = \\frac{110 - 100}{100} = 0,10 \\, \\text{(ou 10\\%)}\n",
    "\\]"
   ]
  },
  {
   "cell_type": "markdown",
   "metadata": {},
   "source": [
    "É bom saber o nome das colunas, para aplicar a formula corretamente. "
   ]
  },
  {
   "cell_type": "code",
   "execution_count": 11,
   "metadata": {},
   "outputs": [
    {
     "name": "stdout",
     "output_type": "stream",
     "text": [
      "MultiIndex([( 'Close', 'PG'),\n",
      "            (  'High', 'PG'),\n",
      "            (   'Low', 'PG'),\n",
      "            (  'Open', 'PG'),\n",
      "            ('Volume', 'PG')],\n",
      "           names=['Price', 'Ticker'])\n"
     ]
    }
   ],
   "source": [
    "print(PG.columns)"
   ]
  },
  {
   "cell_type": "code",
   "execution_count": 12,
   "metadata": {},
   "outputs": [
    {
     "name": "stdout",
     "output_type": "stream",
     "text": [
      "Date\n",
      "1995-01-03         NaN\n",
      "1995-01-04   -0.008016\n",
      "1995-01-05   -0.014142\n",
      "1995-01-06    0.002049\n",
      "1995-01-09   -0.004090\n",
      "                ...   \n",
      "2024-12-26    0.007222\n",
      "2024-12-27   -0.003702\n",
      "2024-12-30   -0.014393\n",
      "2024-12-31    0.003351\n",
      "2025-01-02   -0.006144\n",
      "Name: simple_return, Length: 7553, dtype: float64\n"
     ]
    }
   ],
   "source": [
    "PG['simple_return'] = PG['Close'] / PG['Close'].shift(1) - 1\n",
    "print(PG['simple_return'])"
   ]
  },
  {
   "cell_type": "markdown",
   "metadata": {},
   "source": [
    "Agora vamos analisar o grafico da taxa de retorno nesta ação."
   ]
  },
  {
   "cell_type": "code",
   "execution_count": 14,
   "metadata": {},
   "outputs": [
    {
     "data": {
      "text/plain": [
       "<Axes: xlabel='Date'>"
      ]
     },
     "execution_count": 14,
     "metadata": {},
     "output_type": "execute_result"
    },
    {
     "data": {
      "image/png": "[encoded data removed]",
      "text/plain": [
       "<Figure size 1200x1000 with 1 Axes>"
      ]
     },
     "metadata": {},
     "output_type": "display_data"
    }
   ],
   "source": [
    "PG ['simple_return'].plot(figsize=(12,10))"
   ]
  },
  {
   "cell_type": "markdown",
   "metadata": {},
   "source": [
    "Agora vamos calcular a taxa média de retorno"
   ]
  },
  {
   "cell_type": "code",
   "execution_count": 15,
   "metadata": {},
   "outputs": [
    {
     "data": {
      "text/plain": [
       "0.000507989928964298"
      ]
     },
     "execution_count": 15,
     "metadata": {},
     "output_type": "execute_result"
    }
   ],
   "source": [
    "avg_returns_d = PG['simple_return'].mean()\n",
    "avg_returns_d"
   ]
  },
  {
   "cell_type": "markdown",
   "metadata": {},
   "source": [
    "### Calcular a taxa media anual agora"
   ]
  },
  {
   "cell_type": "code",
   "execution_count": 16,
   "metadata": {},
   "outputs": [
    {
     "data": {
      "text/plain": [
       "0.1269974822410745"
      ]
     },
     "execution_count": 16,
     "metadata": {},
     "output_type": "execute_result"
    }
   ],
   "source": [
    "avg_returns_a = PG['simple_return'].mean () *250\n",
    "avg_returns_a"
   ]
  },
  {
   "cell_type": "markdown",
   "metadata": {},
   "source": [
    "Essa taxa não está definida em porcentagem. Vamos calcular para plotar os dados em porcentagem"
   ]
  },
  {
   "cell_type": "code",
   "execution_count": 17,
   "metadata": {},
   "outputs": [
    {
     "name": "stdout",
     "output_type": "stream",
     "text": [
      "12.7%\n"
     ]
    }
   ],
   "source": [
    "print(str(round(avg_returns_a, 5) * 100) + '%')"
   ]
  },
  {
   "cell_type": "markdown",
   "metadata": {},
   "source": [
    "### Agora vamos calcular a taxa log de retorno"
   ]
  },
  {
   "cell_type": "code",
   "execution_count": 19,
   "metadata": {},
   "outputs": [
    {
     "name": "stdout",
     "output_type": "stream",
     "text": [
      "Date\n",
      "1995-01-03         NaN\n",
      "1995-01-04   -0.008048\n",
      "1995-01-05   -0.014243\n",
      "1995-01-06    0.002047\n",
      "1995-01-09   -0.004098\n",
      "Name: log_return, dtype: float64\n"
     ]
    }
   ],
   "source": [
    "import numpy as np\n",
    "\n",
    "PG['log_return'] = np.log(PG['Close'] / PG['Close'].shift(1))\n",
    "print(PG['log_return'].head())"
   ]
  },
  {
   "cell_type": "markdown",
   "metadata": {},
   "source": [
    "Confirmação da criação da taxa LOG. "
   ]
  },
  {
   "cell_type": "code",
   "execution_count": 20,
   "metadata": {},
   "outputs": [
    {
     "data": {
      "text/html": [
       "<div>\n",
       "<style scoped>\n",
       "    .dataframe tbody tr th:only-of-type {\n",
       "        vertical-align: middle;\n",
       "    }\n",
       "\n",
       "    .dataframe tbody tr th {\n",
       "        vertical-align: top;\n",
       "    }\n",
       "\n",
       "    .dataframe thead tr th {\n",
       "        text-align: left;\n",
       "    }\n",
       "\n",
       "    .dataframe thead tr:last-of-type th {\n",
       "        text-align: right;\n",
       "    }\n",
       "</style>\n",
       "<table border=\"1\" class=\"dataframe\">\n",
       "  <thead>\n",
       "    <tr>\n",
       "      <th>Price</th>\n",
       "      <th>Close</th>\n",
       "      <th>High</th>\n",
       "      <th>Low</th>\n",
       "      <th>Open</th>\n",
       "      <th>Volume</th>\n",
       "      <th>simple_return</th>\n",
       "      <th>log_return</th>\n",
       "    </tr>\n",
       "    <tr>\n",
       "      <th>Ticker</th>\n",
       "      <th>PG</th>\n",
       "      <th>PG</th>\n",
       "      <th>PG</th>\n",
       "      <th>PG</th>\n",
       "      <th>PG</th>\n",
       "      <th></th>\n",
       "      <th></th>\n",
       "    </tr>\n",
       "    <tr>\n",
       "      <th>Date</th>\n",
       "      <th></th>\n",
       "      <th></th>\n",
       "      <th></th>\n",
       "      <th></th>\n",
       "      <th></th>\n",
       "      <th></th>\n",
       "      <th></th>\n",
       "    </tr>\n",
       "  </thead>\n",
       "  <tbody>\n",
       "    <tr>\n",
       "      <th>1995-01-03</th>\n",
       "      <td>7.441167</td>\n",
       "      <td>7.456079</td>\n",
       "      <td>7.366606</td>\n",
       "      <td>7.381518</td>\n",
       "      <td>3318400</td>\n",
       "      <td>NaN</td>\n",
       "      <td>NaN</td>\n",
       "    </tr>\n",
       "    <tr>\n",
       "      <th>1995-01-04</th>\n",
       "      <td>7.381520</td>\n",
       "      <td>7.470993</td>\n",
       "      <td>7.306959</td>\n",
       "      <td>7.411345</td>\n",
       "      <td>2218800</td>\n",
       "      <td>-0.008016</td>\n",
       "      <td>-0.008048</td>\n",
       "    </tr>\n",
       "    <tr>\n",
       "      <th>1995-01-05</th>\n",
       "      <td>7.277130</td>\n",
       "      <td>7.366603</td>\n",
       "      <td>7.262217</td>\n",
       "      <td>7.336778</td>\n",
       "      <td>2319600</td>\n",
       "      <td>-0.014142</td>\n",
       "      <td>-0.014243</td>\n",
       "    </tr>\n",
       "    <tr>\n",
       "      <th>1995-01-06</th>\n",
       "      <td>7.292042</td>\n",
       "      <td>7.351691</td>\n",
       "      <td>7.232394</td>\n",
       "      <td>7.232394</td>\n",
       "      <td>3438000</td>\n",
       "      <td>0.002049</td>\n",
       "      <td>0.002047</td>\n",
       "    </tr>\n",
       "    <tr>\n",
       "      <th>1995-01-09</th>\n",
       "      <td>7.262219</td>\n",
       "      <td>7.351692</td>\n",
       "      <td>7.247307</td>\n",
       "      <td>7.321868</td>\n",
       "      <td>1795200</td>\n",
       "      <td>-0.004090</td>\n",
       "      <td>-0.004098</td>\n",
       "    </tr>\n",
       "  </tbody>\n",
       "</table>\n",
       "</div>"
      ],
      "text/plain": [
       "Price          Close      High       Low      Open   Volume simple_return  \\\n",
       "Ticker            PG        PG        PG        PG       PG                 \n",
       "Date                                                                        \n",
       "1995-01-03  7.441167  7.456079  7.366606  7.381518  3318400           NaN   \n",
       "1995-01-04  7.381520  7.470993  7.306959  7.411345  2218800     -0.008016   \n",
       "1995-01-05  7.277130  7.366603  7.262217  7.336778  2319600     -0.014142   \n",
       "1995-01-06  7.292042  7.351691  7.232394  7.232394  3438000      0.002049   \n",
       "1995-01-09  7.262219  7.351692  7.247307  7.321868  1795200     -0.004090   \n",
       "\n",
       "Price      log_return  \n",
       "Ticker                 \n",
       "Date                   \n",
       "1995-01-03        NaN  \n",
       "1995-01-04  -0.008048  \n",
       "1995-01-05  -0.014243  \n",
       "1995-01-06   0.002047  \n",
       "1995-01-09  -0.004098  "
      ]
     },
     "execution_count": 20,
     "metadata": {},
     "output_type": "execute_result"
    }
   ],
   "source": [
    "PG.head()"
   ]
  },
  {
   "cell_type": "code",
   "execution_count": 21,
   "metadata": {},
   "outputs": [
    {
     "data": {
      "text/plain": [
       "<Axes: xlabel='Date'>"
      ]
     },
     "execution_count": 21,
     "metadata": {},
     "output_type": "execute_result"
    },
    {
     "data": {
      "image/png": "[encoded data removed]",
      "text/plain": [
       "<Figure size 1000x1200 with 1 Axes>"
      ]
     },
     "metadata": {},
     "output_type": "display_data"
    }
   ],
   "source": [
    "PG['log_return'].plot(figsize=(10,12))"
   ]
  },
  {
   "cell_type": "code",
   "execution_count": 22,
   "metadata": {},
   "outputs": [
    {
     "data": {
      "text/plain": [
       "<bound method NDFrame._add_numeric_operations.<locals>.mean of Date\n",
       "1995-01-03         NaN\n",
       "1995-01-04   -0.008048\n",
       "1995-01-05   -0.014243\n",
       "1995-01-06    0.002047\n",
       "1995-01-09   -0.004098\n",
       "                ...   \n",
       "2024-12-26    0.007196\n",
       "2024-12-27   -0.003709\n",
       "2024-12-30   -0.014497\n",
       "2024-12-31    0.003346\n",
       "2025-01-02   -0.006163\n",
       "Name: log_return, Length: 7553, dtype: float64>"
      ]
     },
     "execution_count": 22,
     "metadata": {},
     "output_type": "execute_result"
    }
   ],
   "source": [
    "log_return_d = PG['log_return'].mean\n",
    "log_return_d"
   ]
  },
  {
   "cell_type": "code",
   "execution_count": 23,
   "metadata": {},
   "outputs": [
    {
     "data": {
      "text/plain": [
       "0.1029094301604789"
      ]
     },
     "execution_count": 23,
     "metadata": {},
     "output_type": "execute_result"
    }
   ],
   "source": [
    "log_return_a = PG['log_return'].mean()*250\n",
    "log_return_a"
   ]
  },
  {
   "cell_type": "code",
   "execution_count": 24,
   "metadata": {},
   "outputs": [
    {
     "name": "stdout",
     "output_type": "stream",
     "text": [
      "10.291%\n"
     ]
    }
   ],
   "source": [
    "print(str(round(log_return_a, 5) * 100) + '%')"
   ]
  },
  {
   "cell_type": "markdown",
   "metadata": {},
   "source": [
    "Nos casos acima,  consideramos o investidor que tem apenas uma ação, porem, isso raramente acontece, vamos analisar agora o que acontece com a carteira de um investidor que tem mais de uma ação. "
   ]
  }
 ],
 "metadata": {
  "kernelspec": {
   "display_name": ".venv",
   "language": "python",
   "name": "python3"
  },
  "language_info": {
   "codemirror_mode": {
    "name": "ipython",
    "version": 3
   },
   "file_extension": ".py",
   "mimetype": "text/x-python",
   "name": "python",
   "nbconvert_exporter": "python",
   "pygments_lexer": "ipython3",
   "version": "3.11.0rc2"
  }
 },
 "nbformat": 4,
 "nbformat_minor": 2
}
